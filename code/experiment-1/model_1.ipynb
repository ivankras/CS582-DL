{
 "cells": [
  {
   "cell_type": "markdown",
   "source": [
    "# Mini Project 2 - DL Skills - Modeling"
   ],
   "metadata": {}
  },
  {
   "cell_type": "markdown",
   "source": [
    "## Import libraries and load data"
   ],
   "metadata": {}
  },
  {
   "cell_type": "code",
   "execution_count": 1,
   "source": [
    "import tensorflow as tf\n",
    "from utils import get_prepared_data"
   ],
   "outputs": [
    {
     "output_type": "stream",
     "name": "stderr",
     "text": [
      "2021-08-06 18:00:53.118420: W tensorflow/stream_executor/platform/default/dso_loader.cc:64] Could not load dynamic library 'libcudart.so.11.0'; dlerror: libcudart.so.11.0: cannot open shared object file: No such file or directory\n",
      "2021-08-06 18:00:53.118442: I tensorflow/stream_executor/cuda/cudart_stub.cc:29] Ignore above cudart dlerror if you do not have a GPU set up on your machine.\n"
     ]
    }
   ],
   "metadata": {}
  },
  {
   "cell_type": "code",
   "execution_count": 2,
   "source": [
    "(x_train, x_test), (y_train, y_test) = get_prepared_data()"
   ],
   "outputs": [],
   "metadata": {}
  },
  {
   "cell_type": "code",
   "execution_count": 3,
   "source": [
    "batch_size = 16\n",
    "\n",
    "# https://www.tensorflow.org/tutorials/load_data/numpy\n",
    "train_dataset = tf.data.Dataset.from_tensor_slices((x_train, y_train))\n",
    "train_dataset = train_dataset.shuffle(50000, reshuffle_each_iteration=True)\n",
    "train_dataset = train_dataset.batch(batch_size, num_parallel_calls=tf.data.AUTOTUNE)\n",
    "\n",
    "test_dataset = tf.data.Dataset.from_tensor_slices((x_test, y_test))\n",
    "test_dataset = test_dataset.shuffle(10000, reshuffle_each_iteration=True)\n",
    "test_dataset = test_dataset.batch(batch_size, num_parallel_calls=tf.data.AUTOTUNE)"
   ],
   "outputs": [
    {
     "output_type": "stream",
     "name": "stderr",
     "text": [
      "2021-08-06 18:01:06.497346: W tensorflow/stream_executor/platform/default/dso_loader.cc:64] Could not load dynamic library 'libcuda.so.1'; dlerror: libcuda.so.1: cannot open shared object file: No such file or directory\n",
      "2021-08-06 18:01:06.497391: W tensorflow/stream_executor/cuda/cuda_driver.cc:326] failed call to cuInit: UNKNOWN ERROR (303)\n",
      "2021-08-06 18:01:06.497423: I tensorflow/stream_executor/cuda/cuda_diagnostics.cc:156] kernel driver does not appear to be running on this host (ivankras-ThinkPad-X1-Yoga-1st): /proc/driver/nvidia/version does not exist\n",
      "2021-08-06 18:01:06.499185: I tensorflow/core/platform/cpu_feature_guard.cc:142] This TensorFlow binary is optimized with oneAPI Deep Neural Network Library (oneDNN) to use the following CPU instructions in performance-critical operations:  AVX2 FMA\n",
      "To enable them in other operations, rebuild TensorFlow with the appropriate compiler flags.\n"
     ]
    }
   ],
   "metadata": {}
  },
  {
   "cell_type": "markdown",
   "source": [
    "## Model Network"
   ],
   "metadata": {}
  },
  {
   "cell_type": "code",
   "execution_count": 4,
   "source": [
    "import keras\n",
    "from keras.models import Sequential\n",
    "from keras.layers import (\n",
    "    Dense, Conv2D, MaxPool2D, Flatten\n",
    ")"
   ],
   "outputs": [],
   "metadata": {}
  },
  {
   "cell_type": "markdown",
   "source": [
    "### Model: simplified VGG"
   ],
   "metadata": {}
  },
  {
   "cell_type": "code",
   "execution_count": 5,
   "source": [
    "model = Sequential()\n",
    "\n",
    "conv_layer_1 = Conv2D(\n",
    "    batch_input_shape=(batch_size, 32, 32, 1), # TODO\n",
    "    filters=32,        # number of outputs\n",
    "    kernel_size=(3, 3),\n",
    "    strides=(1, 1),\n",
    "    padding='same',    # maintain shape\n",
    "    activation='relu'\n",
    ")\n",
    "model.add(conv_layer_1)\n",
    "\n",
    "conv_layer_2 = Conv2D(\n",
    "    filters=32,\n",
    "    kernel_size=(3, 3),\n",
    "    strides=(1, 1),\n",
    "    padding='same',\n",
    "    activation='relu'\n",
    ")\n",
    "model.add(conv_layer_2)\n",
    "\n",
    "poolA = MaxPool2D((2, 2), strides=(2,2))\n",
    "model.add(poolA)\n",
    "\n",
    "conv_layer_3 = Conv2D(\n",
    "    filters=64,\n",
    "    kernel_size=(3, 3),\n",
    "    strides=(1, 1),\n",
    "    padding='same',\n",
    "    activation='relu'\n",
    ")\n",
    "conv_layer_3b = Conv2D(\n",
    "    filters=64,\n",
    "    kernel_size=(3, 3),\n",
    "    strides=(1, 1),\n",
    "    padding='same',\n",
    "    activation='relu'\n",
    ")\n",
    "model.add(conv_layer_3)\n",
    "model.add(conv_layer_3b)\n",
    "\n",
    "poolB = MaxPool2D((2, 2), strides=(2,2))\n",
    "model.add(poolB)\n",
    "\n",
    "conv_layer_4 = Conv2D(\n",
    "    filters=128,\n",
    "    kernel_size=(3, 3),\n",
    "    strides=(1, 1),\n",
    "    padding='same',\n",
    "    activation='relu'\n",
    ")\n",
    "conv_layer_4b = Conv2D(\n",
    "    filters=128,\n",
    "    kernel_size=(3, 3),\n",
    "    strides=(1, 1),\n",
    "    padding='same',\n",
    "    activation='relu'\n",
    ")\n",
    "model.add(conv_layer_4)\n",
    "model.add(conv_layer_4b)\n",
    "\n",
    "poolC = MaxPool2D((2, 2), strides=(2,2))\n",
    "model.add(poolC)\n",
    "\n",
    "\n",
    "dense_layer = Dense(units=128, activation='relu')\n",
    "softmax = Dense(units=10, activation='softmax')\n",
    "\n",
    "model.add(Flatten())\n",
    "model.add(dense_layer)\n",
    "model.add(softmax)\n",
    "\n",
    "model.summary()"
   ],
   "outputs": [
    {
     "output_type": "stream",
     "name": "stdout",
     "text": [
      "Model: \"sequential\"\n",
      "_________________________________________________________________\n",
      "Layer (type)                 Output Shape              Param #   \n",
      "=================================================================\n",
      "conv2d (Conv2D)              (16, 32, 32, 32)          320       \n",
      "_________________________________________________________________\n",
      "conv2d_1 (Conv2D)            (16, 32, 32, 32)          9248      \n",
      "_________________________________________________________________\n",
      "max_pooling2d (MaxPooling2D) (16, 16, 16, 32)          0         \n",
      "_________________________________________________________________\n",
      "conv2d_2 (Conv2D)            (16, 16, 16, 64)          18496     \n",
      "_________________________________________________________________\n",
      "conv2d_3 (Conv2D)            (16, 16, 16, 64)          36928     \n",
      "_________________________________________________________________\n",
      "max_pooling2d_1 (MaxPooling2 (16, 8, 8, 64)            0         \n",
      "_________________________________________________________________\n",
      "conv2d_4 (Conv2D)            (16, 8, 8, 128)           73856     \n",
      "_________________________________________________________________\n",
      "conv2d_5 (Conv2D)            (16, 8, 8, 128)           147584    \n",
      "_________________________________________________________________\n",
      "max_pooling2d_2 (MaxPooling2 (16, 4, 4, 128)           0         \n",
      "_________________________________________________________________\n",
      "flatten (Flatten)            (16, 2048)                0         \n",
      "_________________________________________________________________\n",
      "dense (Dense)                (16, 128)                 262272    \n",
      "_________________________________________________________________\n",
      "dense_1 (Dense)              (16, 10)                  1290      \n",
      "=================================================================\n",
      "Total params: 549,994\n",
      "Trainable params: 549,994\n",
      "Non-trainable params: 0\n",
      "_________________________________________________________________\n"
     ]
    }
   ],
   "metadata": {}
  },
  {
   "cell_type": "code",
   "execution_count": 6,
   "source": [
    "from keras.optimizers import adam_v2\n",
    "\n",
    "opt = adam_v2.Adam(\n",
    "    learning_rate=0.001,\n",
    "    beta_1=0.9,\n",
    "    beta_2=0.999,\n",
    "    epsilon=1e-07,\n",
    "    amsgrad=False\n",
    ")\n",
    "\n",
    "model.compile(\n",
    "    optimizer=opt,\n",
    "    loss=keras.losses.categorical_crossentropy,\n",
    "    metrics=['accuracy']\n",
    ")"
   ],
   "outputs": [],
   "metadata": {}
  },
  {
   "cell_type": "code",
   "execution_count": 7,
   "source": [
    "from keras.callbacks import (ModelCheckpoint, EarlyStopping)\n",
    "checkpoint = ModelCheckpoint(\n",
    "    \"updated_vgg.h5\",\n",
    "    monitor='val_accuracy',\n",
    "    verbose=1,\n",
    "    save_best_only=True,\n",
    "    save_weights_only=False,\n",
    "    mode='auto',\n",
    "    save_freq='epoch'\n",
    ")\n",
    "early = EarlyStopping(monitor='val_accuracy', min_delta=0, patience=20, verbose=1, mode='auto')\n",
    "hist = model.fit(\n",
    "    x=train_dataset,\n",
    "    steps_per_epoch=100,\n",
    "    validation_data=test_dataset,\n",
    "    validation_steps=10,\n",
    "    epochs=100,\n",
    "    callbacks=[checkpoint, early]\n",
    ")"
   ],
   "outputs": [
    {
     "output_type": "stream",
     "name": "stdout",
     "text": [
      "Epoch 1/40\n"
     ]
    },
    {
     "output_type": "stream",
     "name": "stderr",
     "text": [
      "2021-08-06 18:01:41.929626: I tensorflow/compiler/mlir/mlir_graph_optimization_pass.cc:176] None of the MLIR Optimization Passes are enabled (registered 2)\n",
      "2021-08-06 18:01:41.950449: I tensorflow/core/platform/profile_utils/cpu_utils.cc:114] CPU Frequency: 2799925000 Hz\n"
     ]
    },
    {
     "output_type": "stream",
     "name": "stdout",
     "text": [
      "100/100 [==============================] - 30s 96ms/step - loss: 3.7231 - accuracy: 0.1018 - val_loss: 2.2628 - val_accuracy: 0.1500\n",
      "WARNING:tensorflow:Can save best model only with val_acc available, skipping.\n",
      "WARNING:tensorflow:Early stopping conditioned on metric `val_acc` which is not available. Available metrics are: loss,accuracy,val_loss,val_accuracy\n",
      "Epoch 2/40\n",
      "100/100 [==============================] - 7s 70ms/step - loss: 2.1798 - accuracy: 0.1870 - val_loss: 2.0151 - val_accuracy: 0.2500\n",
      "WARNING:tensorflow:Can save best model only with val_acc available, skipping.\n",
      "WARNING:tensorflow:Early stopping conditioned on metric `val_acc` which is not available. Available metrics are: loss,accuracy,val_loss,val_accuracy\n",
      "Epoch 3/40\n",
      "100/100 [==============================] - 7s 67ms/step - loss: 2.0120 - accuracy: 0.2433 - val_loss: 2.0684 - val_accuracy: 0.2375\n",
      "WARNING:tensorflow:Can save best model only with val_acc available, skipping.\n",
      "WARNING:tensorflow:Early stopping conditioned on metric `val_acc` which is not available. Available metrics are: loss,accuracy,val_loss,val_accuracy\n",
      "Epoch 4/40\n",
      "100/100 [==============================] - 7s 75ms/step - loss: 1.9274 - accuracy: 0.2822 - val_loss: 1.7113 - val_accuracy: 0.3812\n",
      "WARNING:tensorflow:Can save best model only with val_acc available, skipping.\n",
      "WARNING:tensorflow:Early stopping conditioned on metric `val_acc` which is not available. Available metrics are: loss,accuracy,val_loss,val_accuracy\n",
      "Epoch 5/40\n",
      "100/100 [==============================] - 9s 95ms/step - loss: 1.8566 - accuracy: 0.3231 - val_loss: 1.8539 - val_accuracy: 0.2562\n",
      "WARNING:tensorflow:Can save best model only with val_acc available, skipping.\n",
      "WARNING:tensorflow:Early stopping conditioned on metric `val_acc` which is not available. Available metrics are: loss,accuracy,val_loss,val_accuracy\n",
      "Epoch 6/40\n",
      "100/100 [==============================] - 8s 81ms/step - loss: 1.7575 - accuracy: 0.3181 - val_loss: 1.9413 - val_accuracy: 0.2438\n",
      "WARNING:tensorflow:Can save best model only with val_acc available, skipping.\n",
      "WARNING:tensorflow:Early stopping conditioned on metric `val_acc` which is not available. Available metrics are: loss,accuracy,val_loss,val_accuracy\n",
      "Epoch 7/40\n",
      "100/100 [==============================] - 8s 81ms/step - loss: 1.7430 - accuracy: 0.3976 - val_loss: 1.6593 - val_accuracy: 0.4187\n",
      "WARNING:tensorflow:Can save best model only with val_acc available, skipping.\n",
      "WARNING:tensorflow:Early stopping conditioned on metric `val_acc` which is not available. Available metrics are: loss,accuracy,val_loss,val_accuracy\n",
      "Epoch 8/40\n",
      "100/100 [==============================] - 8s 78ms/step - loss: 1.7469 - accuracy: 0.3819 - val_loss: 1.6503 - val_accuracy: 0.3812\n",
      "WARNING:tensorflow:Can save best model only with val_acc available, skipping.\n",
      "WARNING:tensorflow:Early stopping conditioned on metric `val_acc` which is not available. Available metrics are: loss,accuracy,val_loss,val_accuracy\n",
      "Epoch 9/40\n",
      "100/100 [==============================] - 7s 74ms/step - loss: 1.6546 - accuracy: 0.3986 - val_loss: 1.7170 - val_accuracy: 0.3375\n",
      "WARNING:tensorflow:Can save best model only with val_acc available, skipping.\n",
      "WARNING:tensorflow:Early stopping conditioned on metric `val_acc` which is not available. Available metrics are: loss,accuracy,val_loss,val_accuracy\n",
      "Epoch 10/40\n",
      "100/100 [==============================] - 8s 77ms/step - loss: 1.5824 - accuracy: 0.4186 - val_loss: 1.6256 - val_accuracy: 0.4500\n",
      "WARNING:tensorflow:Can save best model only with val_acc available, skipping.\n",
      "WARNING:tensorflow:Early stopping conditioned on metric `val_acc` which is not available. Available metrics are: loss,accuracy,val_loss,val_accuracy\n",
      "Epoch 11/40\n",
      "100/100 [==============================] - 8s 81ms/step - loss: 1.5052 - accuracy: 0.4702 - val_loss: 1.4990 - val_accuracy: 0.4688\n",
      "WARNING:tensorflow:Can save best model only with val_acc available, skipping.\n",
      "WARNING:tensorflow:Early stopping conditioned on metric `val_acc` which is not available. Available metrics are: loss,accuracy,val_loss,val_accuracy\n",
      "Epoch 12/40\n",
      "100/100 [==============================] - 8s 77ms/step - loss: 1.4780 - accuracy: 0.4865 - val_loss: 1.5101 - val_accuracy: 0.4938\n",
      "WARNING:tensorflow:Can save best model only with val_acc available, skipping.\n",
      "WARNING:tensorflow:Early stopping conditioned on metric `val_acc` which is not available. Available metrics are: loss,accuracy,val_loss,val_accuracy\n",
      "Epoch 13/40\n",
      "100/100 [==============================] - 8s 85ms/step - loss: 1.4654 - accuracy: 0.4946 - val_loss: 1.3936 - val_accuracy: 0.5000\n",
      "WARNING:tensorflow:Can save best model only with val_acc available, skipping.\n",
      "WARNING:tensorflow:Early stopping conditioned on metric `val_acc` which is not available. Available metrics are: loss,accuracy,val_loss,val_accuracy\n",
      "Epoch 14/40\n",
      "100/100 [==============================] - 8s 75ms/step - loss: 1.4564 - accuracy: 0.4952 - val_loss: 1.4942 - val_accuracy: 0.4812\n",
      "WARNING:tensorflow:Can save best model only with val_acc available, skipping.\n",
      "WARNING:tensorflow:Early stopping conditioned on metric `val_acc` which is not available. Available metrics are: loss,accuracy,val_loss,val_accuracy\n",
      "Epoch 15/40\n",
      "100/100 [==============================] - 9s 88ms/step - loss: 1.3809 - accuracy: 0.5062 - val_loss: 1.4094 - val_accuracy: 0.5312\n",
      "WARNING:tensorflow:Can save best model only with val_acc available, skipping.\n",
      "WARNING:tensorflow:Early stopping conditioned on metric `val_acc` which is not available. Available metrics are: loss,accuracy,val_loss,val_accuracy\n",
      "Epoch 16/40\n",
      "100/100 [==============================] - 9s 91ms/step - loss: 1.3453 - accuracy: 0.5181 - val_loss: 1.4395 - val_accuracy: 0.5125\n",
      "WARNING:tensorflow:Can save best model only with val_acc available, skipping.\n",
      "WARNING:tensorflow:Early stopping conditioned on metric `val_acc` which is not available. Available metrics are: loss,accuracy,val_loss,val_accuracy\n",
      "Epoch 17/40\n",
      "100/100 [==============================] - 8s 82ms/step - loss: 1.3728 - accuracy: 0.5400 - val_loss: 1.2709 - val_accuracy: 0.5562\n",
      "WARNING:tensorflow:Can save best model only with val_acc available, skipping.\n",
      "WARNING:tensorflow:Early stopping conditioned on metric `val_acc` which is not available. Available metrics are: loss,accuracy,val_loss,val_accuracy\n",
      "Epoch 18/40\n",
      "100/100 [==============================] - 8s 82ms/step - loss: 1.3376 - accuracy: 0.5267 - val_loss: 1.1951 - val_accuracy: 0.6062\n",
      "WARNING:tensorflow:Can save best model only with val_acc available, skipping.\n",
      "WARNING:tensorflow:Early stopping conditioned on metric `val_acc` which is not available. Available metrics are: loss,accuracy,val_loss,val_accuracy\n",
      "Epoch 19/40\n",
      "100/100 [==============================] - 9s 93ms/step - loss: 1.3130 - accuracy: 0.5619 - val_loss: 1.2023 - val_accuracy: 0.6187\n",
      "WARNING:tensorflow:Can save best model only with val_acc available, skipping.\n",
      "WARNING:tensorflow:Early stopping conditioned on metric `val_acc` which is not available. Available metrics are: loss,accuracy,val_loss,val_accuracy\n",
      "Epoch 20/40\n",
      "100/100 [==============================] - 11s 105ms/step - loss: 1.2644 - accuracy: 0.5638 - val_loss: 1.1209 - val_accuracy: 0.5750\n",
      "WARNING:tensorflow:Can save best model only with val_acc available, skipping.\n",
      "WARNING:tensorflow:Early stopping conditioned on metric `val_acc` which is not available. Available metrics are: loss,accuracy,val_loss,val_accuracy\n",
      "Epoch 21/40\n",
      "100/100 [==============================] - 8s 83ms/step - loss: 1.2781 - accuracy: 0.5433 - val_loss: 1.5652 - val_accuracy: 0.4563\n",
      "WARNING:tensorflow:Can save best model only with val_acc available, skipping.\n",
      "WARNING:tensorflow:Early stopping conditioned on metric `val_acc` which is not available. Available metrics are: loss,accuracy,val_loss,val_accuracy\n",
      "Epoch 22/40\n",
      "100/100 [==============================] - 11s 109ms/step - loss: 1.3447 - accuracy: 0.5302 - val_loss: 1.4209 - val_accuracy: 0.5063\n",
      "WARNING:tensorflow:Can save best model only with val_acc available, skipping.\n",
      "WARNING:tensorflow:Early stopping conditioned on metric `val_acc` which is not available. Available metrics are: loss,accuracy,val_loss,val_accuracy\n",
      "Epoch 23/40\n",
      "100/100 [==============================] - 11s 107ms/step - loss: 1.2971 - accuracy: 0.5502 - val_loss: 1.3270 - val_accuracy: 0.4812\n",
      "WARNING:tensorflow:Can save best model only with val_acc available, skipping.\n",
      "WARNING:tensorflow:Early stopping conditioned on metric `val_acc` which is not available. Available metrics are: loss,accuracy,val_loss,val_accuracy\n",
      "Epoch 24/40\n",
      "100/100 [==============================] - 12s 117ms/step - loss: 1.2089 - accuracy: 0.5851 - val_loss: 1.3288 - val_accuracy: 0.5562\n",
      "WARNING:tensorflow:Can save best model only with val_acc available, skipping.\n",
      "WARNING:tensorflow:Early stopping conditioned on metric `val_acc` which is not available. Available metrics are: loss,accuracy,val_loss,val_accuracy\n",
      "Epoch 25/40\n",
      "100/100 [==============================] - 9s 89ms/step - loss: 1.1777 - accuracy: 0.5988 - val_loss: 1.1041 - val_accuracy: 0.6125\n",
      "WARNING:tensorflow:Can save best model only with val_acc available, skipping.\n",
      "WARNING:tensorflow:Early stopping conditioned on metric `val_acc` which is not available. Available metrics are: loss,accuracy,val_loss,val_accuracy\n",
      "Epoch 26/40\n",
      "100/100 [==============================] - 10s 99ms/step - loss: 1.1858 - accuracy: 0.5889 - val_loss: 1.2920 - val_accuracy: 0.5375\n",
      "WARNING:tensorflow:Can save best model only with val_acc available, skipping.\n",
      "WARNING:tensorflow:Early stopping conditioned on metric `val_acc` which is not available. Available metrics are: loss,accuracy,val_loss,val_accuracy\n",
      "Epoch 27/40\n",
      "100/100 [==============================] - 8s 80ms/step - loss: 1.1722 - accuracy: 0.6014 - val_loss: 1.2006 - val_accuracy: 0.5625\n",
      "WARNING:tensorflow:Can save best model only with val_acc available, skipping.\n",
      "WARNING:tensorflow:Early stopping conditioned on metric `val_acc` which is not available. Available metrics are: loss,accuracy,val_loss,val_accuracy\n",
      "Epoch 28/40\n",
      "100/100 [==============================] - 8s 79ms/step - loss: 1.2399 - accuracy: 0.5656 - val_loss: 1.0370 - val_accuracy: 0.5938\n",
      "WARNING:tensorflow:Can save best model only with val_acc available, skipping.\n",
      "WARNING:tensorflow:Early stopping conditioned on metric `val_acc` which is not available. Available metrics are: loss,accuracy,val_loss,val_accuracy\n",
      "Epoch 29/40\n",
      "100/100 [==============================] - 10s 95ms/step - loss: 1.1999 - accuracy: 0.5882 - val_loss: 1.1683 - val_accuracy: 0.5750\n",
      "WARNING:tensorflow:Can save best model only with val_acc available, skipping.\n",
      "WARNING:tensorflow:Early stopping conditioned on metric `val_acc` which is not available. Available metrics are: loss,accuracy,val_loss,val_accuracy\n",
      "Epoch 30/40\n",
      "100/100 [==============================] - 9s 90ms/step - loss: 1.2297 - accuracy: 0.5876 - val_loss: 1.2769 - val_accuracy: 0.5625\n",
      "WARNING:tensorflow:Can save best model only with val_acc available, skipping.\n",
      "WARNING:tensorflow:Early stopping conditioned on metric `val_acc` which is not available. Available metrics are: loss,accuracy,val_loss,val_accuracy\n",
      "Epoch 31/40\n",
      "100/100 [==============================] - 9s 88ms/step - loss: 1.2338 - accuracy: 0.5750 - val_loss: 1.0274 - val_accuracy: 0.6187\n",
      "WARNING:tensorflow:Can save best model only with val_acc available, skipping.\n",
      "WARNING:tensorflow:Early stopping conditioned on metric `val_acc` which is not available. Available metrics are: loss,accuracy,val_loss,val_accuracy\n",
      "Epoch 32/40\n",
      " 25/100 [======>.......................] - ETA: 6s - loss: 1.1246 - accuracy: 0.5986WARNING:tensorflow:Your input ran out of data; interrupting training. Make sure that your dataset or generator can generate at least `steps_per_epoch * epochs` batches (in this case, 4000 batches). You may need to use the repeat() function when building your dataset.\n",
      "100/100 [==============================] - 2s 23ms/step - loss: 1.1112 - accuracy: 0.6203 - val_loss: 1.1210 - val_accuracy: 0.5938\n",
      "WARNING:tensorflow:Can save best model only with val_acc available, skipping.\n",
      "WARNING:tensorflow:Early stopping conditioned on metric `val_acc` which is not available. Available metrics are: loss,accuracy,val_loss,val_accuracy\n"
     ]
    }
   ],
   "metadata": {}
  },
  {
   "cell_type": "code",
   "execution_count": 8,
   "source": [
    "import matplotlib.pyplot as plt\n",
    "\n",
    "fig, (ax1, ax2) = plt.subplots(1, 2)\n",
    "\n",
    "ax1.plot(hist.history[\"loss\"])\n",
    "ax1.plot(hist.history[\"val_loss\"])\n",
    "ax1.set_title(\"model loss\")\n",
    "ax1.set_ylabel(\"loss\")\n",
    "ax1.set_xlabel(\"epoch\")\n",
    "ax1.legend([\"train\", \"test\"], loc=\"upper left\")\n",
    "\n",
    "ax2.plot(hist.history[\"accuracy\"])\n",
    "ax2.plot(hist.history[\"val_accuracy\"])\n",
    "ax2.set_title(\"model accuracy\")\n",
    "ax2.set_ylabel(\"accuracy\")\n",
    "ax2.set_xlabel(\"epoch\")\n",
    "ax2.legend([\"train\", \"test\"], loc=\"upper left\")\n",
    "\n",
    "fig.tight_layout()\n",
    "plt.show()"
   ],
   "outputs": [
    {
     "output_type": "display_data",
     "data": {
      "text/plain": [
       "<Figure size 432x288 with 2 Axes>"
      ],
      "image/png": "[encoded data removed]"
     },
     "metadata": {
      "needs_background": "light"
     }
    }
   ],
   "metadata": {}
  },
  {
   "cell_type": "markdown",
   "source": [
    "### Predictions"
   ],
   "metadata": {}
  },
  {
   "cell_type": "code",
   "execution_count": 22,
   "source": [
    "y_hat = model.predict(x_test)"
   ],
   "outputs": [
    {
     "output_type": "stream",
     "name": "stdout",
     "text": [
      "[0. 0. 0. 0. 0. 0. 0. 0. 1. 0.]\n",
      "[0.00973341 0.00099683 0.13823715 0.10842919 0.41729394 0.19692977\n",
      " 0.0622964  0.05702534 0.00698752 0.00207045]\n"
     ]
    }
   ],
   "metadata": {}
  },
  {
   "cell_type": "code",
   "execution_count": 33,
   "source": [
    "import numpy as np\n",
    "from PIL import Image\n",
    "\n",
    "def get_category(y, verbose=False):\n",
    "    i2Cat = {\n",
    "        0: 'airplane',\n",
    "        1: 'automobile',\n",
    "        2: 'bird',\n",
    "        3: 'cat',\n",
    "        4: 'deer',\n",
    "        5: 'dog',\n",
    "        6: 'frog',\n",
    "        7: 'horse',\n",
    "        8: 'ship',\n",
    "        9: 'truck'\n",
    "    }\n",
    "\n",
    "    best_est_idx = np.argmax(y)\n",
    "    if verbose:\n",
    "        print(f'Best estimation ({best_est_idx}) confidence: {y[best_est_idx]}')\n",
    "    return i2Cat[best_est_idx]\n",
    "\n",
    "# Recheck accuracy calculation on test set\n",
    "count = 0\n",
    "for i in range(len(y_test)):\n",
    "    if np.argmax(y_test[i]) == np.argmax(y_hat[i]):\n",
    "        count += 1\n",
    "print(f'Matches: {count} out of {len(y_test)}')\n",
    "\n",
    "test_idx = 20\n",
    "print(get_category(y_test[test_idx], verbose=True))\n",
    "print(get_category(y_hat[test_idx], verbose=True))\n",
    "Image.fromarray(x_test[test_idx].reshape(32, 32)).resize((128, 128))"
   ],
   "outputs": [
    {
     "output_type": "stream",
     "name": "stdout",
     "text": [
      "Matches: 6182 out of 10000\n",
      "Best estimation (7) confidence: 1.0\n",
      "horse\n",
      "Best estimation (7) confidence: 0.851071298122406\n",
      "horse\n"
     ]
    },
    {
     "output_type": "execute_result",
     "data": {
      "text/plain": [
       "<PIL.Image.Image image mode=L size=128x128 at 0x7F289C0C0C40>"
      ],
      "image/png": "[encoded data removed]"
     },
     "metadata": {},
     "execution_count": 33
    }
   ],
   "metadata": {}
  }
 ],
 "metadata": {
  "orig_nbformat": 4,
  "language_info": {
   "name": "python",
   "version": "3.8.10",
   "mimetype": "text/x-python",
   "codemirror_mode": {
    "name": "ipython",
    "version": 3
   },
   "pygments_lexer": "ipython3",
   "nbconvert_exporter": "python",
   "file_extension": ".py"
  },
  "kernelspec": {
   "name": "python3",
   "display_name": "Python 3.8.10 64-bit ('venv': venv)"
  },
  "interpreter": {
   "hash": "ca2a4fbeb6acb7be4e9ed99c6d95e320cf98efc94edc513072d2e669539c4e38"
  }
 },
 "nbformat": 4,
 "nbformat_minor": 2
}