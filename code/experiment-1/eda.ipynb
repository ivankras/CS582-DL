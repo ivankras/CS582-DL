{
 "cells": [
  {
   "cell_type": "markdown",
   "source": [
    "# Mini Project 2 - DL Skills - EDA"
   ],
   "metadata": {}
  },
  {
   "cell_type": "markdown",
   "source": [
    "## Import libraries and load data"
   ],
   "metadata": {}
  },
  {
   "cell_type": "code",
   "execution_count": null,
   "source": [
    "import tensorflow as tf\n",
    "import numpy as np\n",
    "from PIL import Image\n",
    "from sklearn.preprocessing import OneHotEncoder"
   ],
   "outputs": [],
   "metadata": {}
  },
  {
   "cell_type": "code",
   "execution_count": null,
   "source": [
    "(x_train, y_train), (x_test, y_test) = tf.keras.datasets.cifar10.load_data()"
   ],
   "outputs": [],
   "metadata": {}
  },
  {
   "cell_type": "markdown",
   "source": [
    "## Check shapes"
   ],
   "metadata": {}
  },
  {
   "cell_type": "code",
   "execution_count": null,
   "source": [
    "assert x_train.shape == (50000, 32, 32, 3)\n",
    "assert x_test.shape == (10000, 32, 32, 3)\n",
    "assert y_train.shape == (50000, 1)\n",
    "assert y_test.shape == (10000, 1)\n",
    "\n",
    "test_img = x_train[1000]\n",
    "Image.fromarray(test_img) # Picture should be shown"
   ],
   "outputs": [],
   "metadata": {}
  },
  {
   "cell_type": "markdown",
   "source": [
    "----\n",
    "INPUT:\n",
    "- 50000 images (train), 32x32, 3 color channels\n",
    "- 10000 images (test), 32x32, 3 color channels\n",
    "\n",
    "OUTPUT:\n",
    "- 50000 predictions (train), {0-9} in a numpy array\n",
    "- 50000 predictions (test), {0-9} in a numpy array  \n",
    "----\n",
    "0 -> airplane  \n",
    "1 -> automobile  \n",
    "2 -> bird  \n",
    "3 -> cat  \n",
    "4 -> deer  \n",
    "5 -> dog  \n",
    "6 -> frog  \n",
    "7 -> horse  \n",
    "8 -> ship  \n",
    "9 -> truck  \n"
   ],
   "metadata": {}
  },
  {
   "cell_type": "markdown",
   "source": [
    "## Convert images to grayscale"
   ],
   "metadata": {}
  },
  {
   "cell_type": "code",
   "execution_count": null,
   "source": [
    "def to_grayscale(img):\n",
    "    treating = Image.fromarray(img)\n",
    "    treating = treating.convert('L')\n",
    "    return np.array(treating)\n",
    "\n",
    "x_train_gray = np.array([to_grayscale(img) for img in x_train])\n",
    "x_test_gray = np.array([to_grayscale(img) for img in x_test])\n",
    "\n",
    "test_img_gray = x_train_gray[1000]\n",
    "Image.fromarray(test_img_gray)"
   ],
   "outputs": [],
   "metadata": {}
  },
  {
   "cell_type": "code",
   "execution_count": null,
   "source": [
    "assert x_train_gray.shape == (50000, 32, 32)\n",
    "assert x_test_gray.shape == (10000, 32, 32)"
   ],
   "outputs": [],
   "metadata": {}
  },
  {
   "cell_type": "markdown",
   "source": [
    "## One-Hot Encode labels"
   ],
   "metadata": {}
  },
  {
   "cell_type": "code",
   "execution_count": null,
   "source": [
    "oh_encoder = OneHotEncoder(sparse=False)\n",
    "y_train_oh = oh_encoder.fit_transform(y_train)\n",
    "y_test_oh = oh_encoder.transform(y_test)"
   ],
   "outputs": [],
   "metadata": {}
  },
  {
   "cell_type": "code",
   "execution_count": null,
   "source": [
    "assert y_train_oh.shape == (50000, 10)\n",
    "assert y_test_oh.shape == (10000, 10)"
   ],
   "outputs": [],
   "metadata": {}
  },
  {
   "cell_type": "markdown",
   "source": [
    "----\n",
    "NOTE: this analysis has been synthesized into *get_prepared_data()* function in *utils.py*"
   ],
   "metadata": {}
  }
 ],
 "metadata": {
  "orig_nbformat": 4,
  "language_info": {
   "name": "python",
   "version": "3.8.10",
   "mimetype": "text/x-python",
   "codemirror_mode": {
    "name": "ipython",
    "version": 3
   },
   "pygments_lexer": "ipython3",
   "nbconvert_exporter": "python",
   "file_extension": ".py"
  },
  "kernelspec": {
   "name": "python3",
   "display_name": "Python 3.8.10 64-bit ('venv': venv)"
  },
  "interpreter": {
   "hash": "ca2a4fbeb6acb7be4e9ed99c6d95e320cf98efc94edc513072d2e669539c4e38"
  }
 },
 "nbformat": 4,
 "nbformat_minor": 2
}